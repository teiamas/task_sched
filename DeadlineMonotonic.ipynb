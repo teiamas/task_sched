{
 "cells": [
  {
   "attachments": {
    "9fdd5726-f25e-411c-8ccd-32f8c105adad.png": {
     "image/png": "[encoded data removed]"
    }
   },
   "cell_type": "markdown",
   "id": "308fd72f-3554-4617-a1fa-8b2d1c399e1d",
   "metadata": {},
   "source": [
    "# Periodic Task Scheduling: Deadline Monotonic (DM) Algorithm\n",
    "\n",
    "## Introduction\n",
    "\n",
    "**Deadline Monotonic (DM)** is an extension of Rate Monotonic scheduling, where tasks can have relative deadlines less than or equal to their period.\n",
    "\n",
    "![DM Parameters](attachment:9fdd5726-f25e-411c-8ccd-32f8c105adad.png)\n",
    "\n",
    "According to the DM algorithm, each task is assigned a **fixed priority inversely proportional to its relative deadline**. Thus, at any instant, the task with the shortest relative deadline is executed. Since relative deadlines are constant, DM is a static priority assignment.\n",
    "\n",
    "### Key Properties\n",
    "- **Optimal**: A set of tasks is schedulable with fixed priority algorithm A ⟹ is schedulable with DM\n",
    "- **Static Priority**: Priorities are assigned once based on deadlines and never change\n",
    "- **Preemptive**: Higher priority tasks can interrupt lower priority tasks\n",
    "\n",
    "---"
   ]
  },
  {
   "cell_type": "code",
   "execution_count": 1,
   "id": "94469b12",
   "metadata": {
    "jupyter": {
     "source_hidden": true
    }
   },
   "outputs": [
    {
     "name": "stdout",
     "output_type": "stream",
     "text": [
      "✅ All libraries imported successfully!\n"
     ]
    }
   ],
   "source": [
    "# Import required libraries\n",
    "import pandas as pd\n",
    "import numpy as np\n",
    "from IPython.display import display, Markdown, Image\n",
    "import rate_monotonic as rtm\n",
    "import task_schedule_visualizer as tsv\n",
    "import matplotlib.pyplot as plt\n",
    "\n",
    "print(\"✅ All libraries imported successfully!\")"
   ]
  },
  {
   "cell_type": "markdown",
   "id": "e3560ce2-23eb-446f-96ba-c87fcf2d2119",
   "metadata": {},
   "source": [
    "## Sufficient Criteria for Schedulability 1\n",
    "*Simple but a little pessimistic*\n",
    "\n",
    "$$\\sum_{i=1}^n{\\frac{C_i}{D_i}} \\leq n(2^{\\frac{1}{n}}-1)$$\n",
    "\n",
    "### Example 1: Task Set with Mixed Deadlines"
   ]
  },
  {
   "cell_type": "code",
   "execution_count": 2,
   "id": "8c749e9a",
   "metadata": {
    "jupyter": {
     "source_hidden": true
    }
   },
   "outputs": [
    {
     "name": "stdout",
     "output_type": "stream",
     "text": [
      "📋 Task Set 1 Parameters (Easy Case - D < T):\n"
     ]
    },
    {
     "data": {
      "application/vnd.microsoft.datawrangler.viewer.v0+json": {
       "columns": [
        {
         "name": "index",
         "rawType": "int64",
         "type": "integer"
        },
        {
         "name": "Period (T)",
         "rawType": "int64",
         "type": "integer"
        },
        {
         "name": "Deadline (D)",
         "rawType": "int64",
         "type": "integer"
        },
        {
         "name": "Execution Time (C)",
         "rawType": "int64",
         "type": "integer"
        },
        {
         "name": "D/T Ratio",
         "rawType": "float64",
         "type": "float"
        }
       ],
       "ref": "1306158c-bdc4-4ca5-99bb-d4079ba78699",
       "rows": [
        [
         "0",
         "8",
         "6",
         "2",
         "0.75"
        ],
        [
         "1",
         "12",
         "10",
         "3",
         "0.8333333333333334"
        ],
        [
         "2",
         "20",
         "18",
         "4",
         "0.9"
        ]
       ],
       "shape": {
        "columns": 4,
        "rows": 3
       }
      },
      "text/html": [
       "<div>\n",
       "<style scoped>\n",
       "    .dataframe tbody tr th:only-of-type {\n",
       "        vertical-align: middle;\n",
       "    }\n",
       "\n",
       "    .dataframe tbody tr th {\n",
       "        vertical-align: top;\n",
       "    }\n",
       "\n",
       "    .dataframe thead th {\n",
       "        text-align: right;\n",
       "    }\n",
       "</style>\n",
       "<table border=\"1\" class=\"dataframe\">\n",
       "  <thead>\n",
       "    <tr style=\"text-align: right;\">\n",
       "      <th></th>\n",
       "      <th>Period (T)</th>\n",
       "      <th>Deadline (D)</th>\n",
       "      <th>Execution Time (C)</th>\n",
       "      <th>D/T Ratio</th>\n",
       "    </tr>\n",
       "  </thead>\n",
       "  <tbody>\n",
       "    <tr>\n",
       "      <th>0</th>\n",
       "      <td>8</td>\n",
       "      <td>6</td>\n",
       "      <td>2</td>\n",
       "      <td>0.750000</td>\n",
       "    </tr>\n",
       "    <tr>\n",
       "      <th>1</th>\n",
       "      <td>12</td>\n",
       "      <td>10</td>\n",
       "      <td>3</td>\n",
       "      <td>0.833333</td>\n",
       "    </tr>\n",
       "    <tr>\n",
       "      <th>2</th>\n",
       "      <td>20</td>\n",
       "      <td>18</td>\n",
       "      <td>4</td>\n",
       "      <td>0.900000</td>\n",
       "    </tr>\n",
       "  </tbody>\n",
       "</table>\n",
       "</div>"
      ],
      "text/plain": [
       "   Period (T)  Deadline (D)  Execution Time (C)  D/T Ratio\n",
       "0           8             6                   2   0.750000\n",
       "1          12            10                   3   0.833333\n",
       "2          20            18                   4   0.900000"
      ]
     },
     "metadata": {},
     "output_type": "display_data"
    },
    {
     "name": "stdout",
     "output_type": "stream",
     "text": [
      "💹 Total Utilization (∑C/T): 0.700\n",
      "🎯 Deadline Utilization (∑C/D): 0.856\n",
      "📊 RM Bound (n=3): 0.780\n",
      "🔄 DM Analysis: Uses D for priority assignment (shorter D = higher priority)\n",
      "\n",
      "📋 Task Set 2 Parameters (Medium Case - D < T):\n"
     ]
    },
    {
     "data": {
      "application/vnd.microsoft.datawrangler.viewer.v0+json": {
       "columns": [
        {
         "name": "index",
         "rawType": "int64",
         "type": "integer"
        },
        {
         "name": "Period (T)",
         "rawType": "int64",
         "type": "integer"
        },
        {
         "name": "Deadline (D)",
         "rawType": "int64",
         "type": "integer"
        },
        {
         "name": "Execution Time (C)",
         "rawType": "int64",
         "type": "integer"
        },
        {
         "name": "D/T Ratio",
         "rawType": "float64",
         "type": "float"
        }
       ],
       "ref": "e41e1598-2b33-497e-b98e-ae82c7ad2fa6",
       "rows": [
        [
         "0",
         "6",
         "4",
         "1",
         "0.6666666666666666"
        ],
        [
         "1",
         "10",
         "8",
         "3",
         "0.8"
        ],
        [
         "2",
         "15",
         "12",
         "4",
         "0.8"
        ]
       ],
       "shape": {
        "columns": 4,
        "rows": 3
       }
      },
      "text/html": [
       "<div>\n",
       "<style scoped>\n",
       "    .dataframe tbody tr th:only-of-type {\n",
       "        vertical-align: middle;\n",
       "    }\n",
       "\n",
       "    .dataframe tbody tr th {\n",
       "        vertical-align: top;\n",
       "    }\n",
       "\n",
       "    .dataframe thead th {\n",
       "        text-align: right;\n",
       "    }\n",
       "</style>\n",
       "<table border=\"1\" class=\"dataframe\">\n",
       "  <thead>\n",
       "    <tr style=\"text-align: right;\">\n",
       "      <th></th>\n",
       "      <th>Period (T)</th>\n",
       "      <th>Deadline (D)</th>\n",
       "      <th>Execution Time (C)</th>\n",
       "      <th>D/T Ratio</th>\n",
       "    </tr>\n",
       "  </thead>\n",
       "  <tbody>\n",
       "    <tr>\n",
       "      <th>0</th>\n",
       "      <td>6</td>\n",
       "      <td>4</td>\n",
       "      <td>1</td>\n",
       "      <td>0.666667</td>\n",
       "    </tr>\n",
       "    <tr>\n",
       "      <th>1</th>\n",
       "      <td>10</td>\n",
       "      <td>8</td>\n",
       "      <td>3</td>\n",
       "      <td>0.800000</td>\n",
       "    </tr>\n",
       "    <tr>\n",
       "      <th>2</th>\n",
       "      <td>15</td>\n",
       "      <td>12</td>\n",
       "      <td>4</td>\n",
       "      <td>0.800000</td>\n",
       "    </tr>\n",
       "  </tbody>\n",
       "</table>\n",
       "</div>"
      ],
      "text/plain": [
       "   Period (T)  Deadline (D)  Execution Time (C)  D/T Ratio\n",
       "0           6             4                   1   0.666667\n",
       "1          10             8                   3   0.800000\n",
       "2          15            12                   4   0.800000"
      ]
     },
     "metadata": {},
     "output_type": "display_data"
    },
    {
     "name": "stdout",
     "output_type": "stream",
     "text": [
      "💹 Total Utilization (∑C/T): 0.733\n",
      "🎯 Deadline Utilization (∑C/D): 0.958\n",
      "📊 RM Bound (n=3): 0.780\n",
      "🔄 DM Analysis: Uses D for priority assignment (shorter D = higher priority)\n",
      "\n",
      "📋 Task Set 3 Parameters (Hard Case - D < T):\n"
     ]
    },
    {
     "data": {
      "application/vnd.microsoft.datawrangler.viewer.v0+json": {
       "columns": [
        {
         "name": "index",
         "rawType": "int64",
         "type": "integer"
        },
        {
         "name": "Period (T)",
         "rawType": "int64",
         "type": "integer"
        },
        {
         "name": "Deadline (D)",
         "rawType": "int64",
         "type": "integer"
        },
        {
         "name": "Execution Time (C)",
         "rawType": "int64",
         "type": "integer"
        },
        {
         "name": "D/T Ratio",
         "rawType": "float64",
         "type": "float"
        }
       ],
       "ref": "1a80d547-1598-489f-ae3f-e1f02024a032",
       "rows": [
        [
         "0",
         "7",
         "5",
         "2",
         "0.7142857142857143"
        ],
        [
         "1",
         "14",
         "10",
         "4",
         "0.7142857142857143"
        ],
        [
         "2",
         "21",
         "15",
         "6",
         "0.7142857142857143"
        ]
       ],
       "shape": {
        "columns": 4,
        "rows": 3
       }
      },
      "text/html": [
       "<div>\n",
       "<style scoped>\n",
       "    .dataframe tbody tr th:only-of-type {\n",
       "        vertical-align: middle;\n",
       "    }\n",
       "\n",
       "    .dataframe tbody tr th {\n",
       "        vertical-align: top;\n",
       "    }\n",
       "\n",
       "    .dataframe thead th {\n",
       "        text-align: right;\n",
       "    }\n",
       "</style>\n",
       "<table border=\"1\" class=\"dataframe\">\n",
       "  <thead>\n",
       "    <tr style=\"text-align: right;\">\n",
       "      <th></th>\n",
       "      <th>Period (T)</th>\n",
       "      <th>Deadline (D)</th>\n",
       "      <th>Execution Time (C)</th>\n",
       "      <th>D/T Ratio</th>\n",
       "    </tr>\n",
       "  </thead>\n",
       "  <tbody>\n",
       "    <tr>\n",
       "      <th>0</th>\n",
       "      <td>7</td>\n",
       "      <td>5</td>\n",
       "      <td>2</td>\n",
       "      <td>0.714286</td>\n",
       "    </tr>\n",
       "    <tr>\n",
       "      <th>1</th>\n",
       "      <td>14</td>\n",
       "      <td>10</td>\n",
       "      <td>4</td>\n",
       "      <td>0.714286</td>\n",
       "    </tr>\n",
       "    <tr>\n",
       "      <th>2</th>\n",
       "      <td>21</td>\n",
       "      <td>15</td>\n",
       "      <td>6</td>\n",
       "      <td>0.714286</td>\n",
       "    </tr>\n",
       "  </tbody>\n",
       "</table>\n",
       "</div>"
      ],
      "text/plain": [
       "   Period (T)  Deadline (D)  Execution Time (C)  D/T Ratio\n",
       "0           7             5                   2   0.714286\n",
       "1          14            10                   4   0.714286\n",
       "2          21            15                   6   0.714286"
      ]
     },
     "metadata": {},
     "output_type": "display_data"
    },
    {
     "name": "stdout",
     "output_type": "stream",
     "text": [
      "💹 Total Utilization (∑C/T): 0.857\n",
      "🎯 Deadline Utilization (∑C/D): 1.200\n",
      "📊 RM Bound (n=3): 0.780\n",
      "🔄 DM Analysis: Uses D for priority assignment (shorter D = higher priority)\n",
      "\n",
      "📈 Task Set 1 - Deadline Monotonic Schedule:\n"
     ]
    },
    {
     "data": {
      "image/png": "[encoded data removed]",
      "text/plain": [
       "<Figure size 1600x800 with 1 Axes>"
      ]
     },
     "metadata": {},
     "output_type": "display_data"
    }
   ],
   "source": [
    "# Define Task Sets with Progressive Difficulty (D ≠ T)\n",
    "# Task Set 1: Easy case - schedulable with all methods\n",
    "task_set_1 = [\n",
    "    rtm.Task(period=8,  deadline=6,  execution_time=2),   # D < T, Utilization: 0.25\n",
    "    rtm.Task(period=12, deadline=10, execution_time=3),   # D < T, Utilization: 0.25\n",
    "    rtm.Task(period=20, deadline=18, execution_time=4)    # D < T, Utilization: 0.20\n",
    "]\n",
    "# Total utilization: 0.70 (moderate utilization, tight deadlines)\n",
    "\n",
    "# Task Set 2: Medium case - fails sufficient condition 1, passes 2 and 3\n",
    "task_set_2 = [\n",
    "    rtm.Task(period=6,  deadline=4,  execution_time=1),   # D < T, High priority\n",
    "    rtm.Task(period=10, deadline=8,  execution_time=3),   # D < T, Medium priority\n",
    "    rtm.Task(period=15, deadline=12, execution_time=4)    # D < T, Low priority\n",
    "]\n",
    "# Total utilization: 0.73 (reasonable utilization but tight deadlines)\n",
    "\n",
    "# Task Set 3: Hard case - only schedulable with exact response time analysis\n",
    "task_set_3 = [\n",
    "    rtm.Task(period=7,  deadline=5,  execution_time=2),   # D < T, Very tight deadline\n",
    "    rtm.Task(period=14, deadline=10, execution_time=4),   # D < T, Tight deadline\n",
    "    rtm.Task(period=21, deadline=15, execution_time=6)    # D < T, Tight deadline\n",
    "]\n",
    "# Total utilization: 0.90 (high utilization with constrained deadlines)\n",
    "\n",
    "# Initialize schedulable matrix to store results\n",
    "# schedulable[task_set][method] = result\n",
    "schedulable = [[None, None, None], [None, None, None], [None, None, None]]\n",
    "\n",
    "# Display task parameters in a table\n",
    "def display_task_set(task_set, title=\"Task Set Parameters\"):\n",
    "    task_matrix = [[task.period, task.deadline, task.execution_time, task.deadline/task.period] for task in task_set]\n",
    "    df = pd.DataFrame(task_matrix, columns=['Period (T)', 'Deadline (D)', 'Execution Time (C)', 'D/T Ratio'])\n",
    "    \n",
    "    # Calculate total utilization (C/T) and deadline utilization (C/D)\n",
    "    total_util = sum(task.execution_time / task.period for task in task_set)\n",
    "    deadline_util = sum(task.execution_time / task.deadline for task in task_set)\n",
    "    \n",
    "    print(f\"📋 {title}:\")\n",
    "    display(df)\n",
    "    print(f\"💹 Total Utilization (∑C/T): {total_util:.3f}\")\n",
    "    print(f\"🎯 Deadline Utilization (∑C/D): {deadline_util:.3f}\")\n",
    "    print(f\"📊 RM Bound (n=3): {3 * (2**(1/3) - 1):.3f}\")\n",
    "    print(f\"🔄 DM Analysis: Uses D for priority assignment (shorter D = higher priority)\")\n",
    "    print()\n",
    "\n",
    "display_task_set(task_set_1, \"Task Set 1 Parameters (Easy Case - D < T)\")\n",
    "display_task_set(task_set_2, \"Task Set 2 Parameters (Medium Case - D < T)\")\n",
    "display_task_set(task_set_3, \"Task Set 3 Parameters (Hard Case - D < T)\")\n",
    "\n",
    "# Generate and display Task Set 1 schedule plot using Deadline Monotonic\n",
    "print(\"📈 Task Set 1 - Deadline Monotonic Schedule:\")\n",
    "tsv.plot_rm_schedule_inline(task_set_1, lcm_cycles=1, algorithm='DM');"
   ]
  },
  {
   "cell_type": "code",
   "execution_count": 3,
   "id": "36fc0fc4-a5f8-4cbb-8376-1a06b47fa174",
   "metadata": {
    "jupyter": {
     "source_hidden": true
    },
    "scrolled": true
   },
   "outputs": [
    {
     "name": "stdout",
     "output_type": "stream",
     "text": [
      "🔍 Schedulability Analysis (Sufficient Condition 1):\n",
      "==================================================\n",
      "Rate Monotonic Schedulability Analysis\n",
      "==================================================\n"
     ]
    },
    {
     "data": {
      "application/vnd.microsoft.datawrangler.viewer.v0+json": {
       "columns": [
        {
         "name": "index",
         "rawType": "int64",
         "type": "integer"
        },
        {
         "name": "Task",
         "rawType": "object",
         "type": "string"
        },
        {
         "name": "Execution Time (C)",
         "rawType": "int64",
         "type": "integer"
        },
        {
         "name": "Period (T)",
         "rawType": "int64",
         "type": "integer"
        },
        {
         "name": "Deadline (D)",
         "rawType": "int64",
         "type": "integer"
        },
        {
         "name": "Utilization (C/T)",
         "rawType": "object",
         "type": "string"
        }
       ],
       "ref": "3191dca6-0455-4cb4-8b0a-52f58279317b",
       "rows": [
        [
         "0",
         "T1",
         "2",
         "8",
         "6",
         "0.333"
        ],
        [
         "1",
         "T2",
         "3",
         "12",
         "10",
         "0.300"
        ],
        [
         "2",
         "T3",
         "4",
         "20",
         "18",
         "0.222"
        ]
       ],
       "shape": {
        "columns": 5,
        "rows": 3
       }
      },
      "text/html": [
       "<div>\n",
       "<style scoped>\n",
       "    .dataframe tbody tr th:only-of-type {\n",
       "        vertical-align: middle;\n",
       "    }\n",
       "\n",
       "    .dataframe tbody tr th {\n",
       "        vertical-align: top;\n",
       "    }\n",
       "\n",
       "    .dataframe thead th {\n",
       "        text-align: right;\n",
       "    }\n",
       "</style>\n",
       "<table border=\"1\" class=\"dataframe\">\n",
       "  <thead>\n",
       "    <tr style=\"text-align: right;\">\n",
       "      <th></th>\n",
       "      <th>Task</th>\n",
       "      <th>Execution Time (C)</th>\n",
       "      <th>Period (T)</th>\n",
       "      <th>Deadline (D)</th>\n",
       "      <th>Utilization (C/T)</th>\n",
       "    </tr>\n",
       "  </thead>\n",
       "  <tbody>\n",
       "    <tr>\n",
       "      <th>0</th>\n",
       "      <td>T1</td>\n",
       "      <td>2</td>\n",
       "      <td>8</td>\n",
       "      <td>6</td>\n",
       "      <td>0.333</td>\n",
       "    </tr>\n",
       "    <tr>\n",
       "      <th>1</th>\n",
       "      <td>T2</td>\n",
       "      <td>3</td>\n",
       "      <td>12</td>\n",
       "      <td>10</td>\n",
       "      <td>0.300</td>\n",
       "    </tr>\n",
       "    <tr>\n",
       "      <th>2</th>\n",
       "      <td>T3</td>\n",
       "      <td>4</td>\n",
       "      <td>20</td>\n",
       "      <td>18</td>\n",
       "      <td>0.222</td>\n",
       "    </tr>\n",
       "  </tbody>\n",
       "</table>\n",
       "</div>"
      ],
      "text/plain": [
       "  Task  Execution Time (C)  Period (T)  Deadline (D) Utilization (C/T)\n",
       "0   T1                   2           8             6             0.333\n",
       "1   T2                   3          12            10             0.300\n",
       "2   T3                   4          20            18             0.222"
      ]
     },
     "metadata": {},
     "output_type": "display_data"
    },
    {
     "name": "stdout",
     "output_type": "stream",
     "text": [
      "\n",
      "Summary:\n"
     ]
    },
    {
     "data": {
      "application/vnd.microsoft.datawrangler.viewer.v0+json": {
       "columns": [
        {
         "name": "index",
         "rawType": "int64",
         "type": "integer"
        },
        {
         "name": "Metric",
         "rawType": "object",
         "type": "string"
        },
        {
         "name": "Value",
         "rawType": "object",
         "type": "unknown"
        }
       ],
       "ref": "88b90d9f-4baf-44ae-9754-488c8a731017",
       "rows": [
        [
         "0",
         "Number of Tasks",
         "3"
        ],
        [
         "1",
         "Total Utilization",
         "0.856"
        ],
        [
         "2",
         "RM Bound",
         "0.780"
        ],
        [
         "3",
         "Schedulable",
         "✗ No"
        ]
       ],
       "shape": {
        "columns": 2,
        "rows": 4
       }
      },
      "text/html": [
       "<div>\n",
       "<style scoped>\n",
       "    .dataframe tbody tr th:only-of-type {\n",
       "        vertical-align: middle;\n",
       "    }\n",
       "\n",
       "    .dataframe tbody tr th {\n",
       "        vertical-align: top;\n",
       "    }\n",
       "\n",
       "    .dataframe thead th {\n",
       "        text-align: right;\n",
       "    }\n",
       "</style>\n",
       "<table border=\"1\" class=\"dataframe\">\n",
       "  <thead>\n",
       "    <tr style=\"text-align: right;\">\n",
       "      <th></th>\n",
       "      <th>Metric</th>\n",
       "      <th>Value</th>\n",
       "    </tr>\n",
       "  </thead>\n",
       "  <tbody>\n",
       "    <tr>\n",
       "      <th>0</th>\n",
       "      <td>Number of Tasks</td>\n",
       "      <td>3</td>\n",
       "    </tr>\n",
       "    <tr>\n",
       "      <th>1</th>\n",
       "      <td>Total Utilization</td>\n",
       "      <td>0.856</td>\n",
       "    </tr>\n",
       "    <tr>\n",
       "      <th>2</th>\n",
       "      <td>RM Bound</td>\n",
       "      <td>0.780</td>\n",
       "    </tr>\n",
       "    <tr>\n",
       "      <th>3</th>\n",
       "      <td>Schedulable</td>\n",
       "      <td>✗ No</td>\n",
       "    </tr>\n",
       "  </tbody>\n",
       "</table>\n",
       "</div>"
      ],
      "text/plain": [
       "              Metric  Value\n",
       "0    Number of Tasks      3\n",
       "1  Total Utilization  0.856\n",
       "2           RM Bound  0.780\n",
       "3        Schedulable   ✗ No"
      ]
     },
     "metadata": {},
     "output_type": "display_data"
    },
    {
     "name": "stdout",
     "output_type": "stream",
     "text": [
      "\n",
      "❌ The task set 1 may not be schedulable (but further analysis needed).\n",
      "\n",
      "\n",
      "\n",
      "--------------------------------------------------\n",
      "Rate Monotonic Schedulability Analysis\n",
      "==================================================\n"
     ]
    },
    {
     "data": {
      "application/vnd.microsoft.datawrangler.viewer.v0+json": {
       "columns": [
        {
         "name": "index",
         "rawType": "int64",
         "type": "integer"
        },
        {
         "name": "Task",
         "rawType": "object",
         "type": "string"
        },
        {
         "name": "Execution Time (C)",
         "rawType": "int64",
         "type": "integer"
        },
        {
         "name": "Period (T)",
         "rawType": "int64",
         "type": "integer"
        },
        {
         "name": "Deadline (D)",
         "rawType": "int64",
         "type": "integer"
        },
        {
         "name": "Utilization (C/T)",
         "rawType": "object",
         "type": "string"
        }
       ],
       "ref": "fa75b699-73c1-41ba-92b2-08ade9e7d5c8",
       "rows": [
        [
         "0",
         "T1",
         "1",
         "6",
         "4",
         "0.250"
        ],
        [
         "1",
         "T2",
         "3",
         "10",
         "8",
         "0.375"
        ],
        [
         "2",
         "T3",
         "4",
         "15",
         "12",
         "0.333"
        ]
       ],
       "shape": {
        "columns": 5,
        "rows": 3
       }
      },
      "text/html": [
       "<div>\n",
       "<style scoped>\n",
       "    .dataframe tbody tr th:only-of-type {\n",
       "        vertical-align: middle;\n",
       "    }\n",
       "\n",
       "    .dataframe tbody tr th {\n",
       "        vertical-align: top;\n",
       "    }\n",
       "\n",
       "    .dataframe thead th {\n",
       "        text-align: right;\n",
       "    }\n",
       "</style>\n",
       "<table border=\"1\" class=\"dataframe\">\n",
       "  <thead>\n",
       "    <tr style=\"text-align: right;\">\n",
       "      <th></th>\n",
       "      <th>Task</th>\n",
       "      <th>Execution Time (C)</th>\n",
       "      <th>Period (T)</th>\n",
       "      <th>Deadline (D)</th>\n",
       "      <th>Utilization (C/T)</th>\n",
       "    </tr>\n",
       "  </thead>\n",
       "  <tbody>\n",
       "    <tr>\n",
       "      <th>0</th>\n",
       "      <td>T1</td>\n",
       "      <td>1</td>\n",
       "      <td>6</td>\n",
       "      <td>4</td>\n",
       "      <td>0.250</td>\n",
       "    </tr>\n",
       "    <tr>\n",
       "      <th>1</th>\n",
       "      <td>T2</td>\n",
       "      <td>3</td>\n",
       "      <td>10</td>\n",
       "      <td>8</td>\n",
       "      <td>0.375</td>\n",
       "    </tr>\n",
       "    <tr>\n",
       "      <th>2</th>\n",
       "      <td>T3</td>\n",
       "      <td>4</td>\n",
       "      <td>15</td>\n",
       "      <td>12</td>\n",
       "      <td>0.333</td>\n",
       "    </tr>\n",
       "  </tbody>\n",
       "</table>\n",
       "</div>"
      ],
      "text/plain": [
       "  Task  Execution Time (C)  Period (T)  Deadline (D) Utilization (C/T)\n",
       "0   T1                   1           6             4             0.250\n",
       "1   T2                   3          10             8             0.375\n",
       "2   T3                   4          15            12             0.333"
      ]
     },
     "metadata": {},
     "output_type": "display_data"
    },
    {
     "name": "stdout",
     "output_type": "stream",
     "text": [
      "\n",
      "Summary:\n"
     ]
    },
    {
     "data": {
      "application/vnd.microsoft.datawrangler.viewer.v0+json": {
       "columns": [
        {
         "name": "index",
         "rawType": "int64",
         "type": "integer"
        },
        {
         "name": "Metric",
         "rawType": "object",
         "type": "string"
        },
        {
         "name": "Value",
         "rawType": "object",
         "type": "unknown"
        }
       ],
       "ref": "cb7f2c7e-dc08-41ab-bbde-af1a9a631b94",
       "rows": [
        [
         "0",
         "Number of Tasks",
         "3"
        ],
        [
         "1",
         "Total Utilization",
         "0.958"
        ],
        [
         "2",
         "RM Bound",
         "0.780"
        ],
        [
         "3",
         "Schedulable",
         "✗ No"
        ]
       ],
       "shape": {
        "columns": 2,
        "rows": 4
       }
      },
      "text/html": [
       "<div>\n",
       "<style scoped>\n",
       "    .dataframe tbody tr th:only-of-type {\n",
       "        vertical-align: middle;\n",
       "    }\n",
       "\n",
       "    .dataframe tbody tr th {\n",
       "        vertical-align: top;\n",
       "    }\n",
       "\n",
       "    .dataframe thead th {\n",
       "        text-align: right;\n",
       "    }\n",
       "</style>\n",
       "<table border=\"1\" class=\"dataframe\">\n",
       "  <thead>\n",
       "    <tr style=\"text-align: right;\">\n",
       "      <th></th>\n",
       "      <th>Metric</th>\n",
       "      <th>Value</th>\n",
       "    </tr>\n",
       "  </thead>\n",
       "  <tbody>\n",
       "    <tr>\n",
       "      <th>0</th>\n",
       "      <td>Number of Tasks</td>\n",
       "      <td>3</td>\n",
       "    </tr>\n",
       "    <tr>\n",
       "      <th>1</th>\n",
       "      <td>Total Utilization</td>\n",
       "      <td>0.958</td>\n",
       "    </tr>\n",
       "    <tr>\n",
       "      <th>2</th>\n",
       "      <td>RM Bound</td>\n",
       "      <td>0.780</td>\n",
       "    </tr>\n",
       "    <tr>\n",
       "      <th>3</th>\n",
       "      <td>Schedulable</td>\n",
       "      <td>✗ No</td>\n",
       "    </tr>\n",
       "  </tbody>\n",
       "</table>\n",
       "</div>"
      ],
      "text/plain": [
       "              Metric  Value\n",
       "0    Number of Tasks      3\n",
       "1  Total Utilization  0.958\n",
       "2           RM Bound  0.780\n",
       "3        Schedulable   ✗ No"
      ]
     },
     "metadata": {},
     "output_type": "display_data"
    },
    {
     "name": "stdout",
     "output_type": "stream",
     "text": [
      "\n",
      "❌ The task set 2 may not be schedulable (but further analysis needed).\n",
      "\n",
      "\n",
      "\n",
      "--------------------------------------------------\n",
      "Rate Monotonic Schedulability Analysis\n",
      "==================================================\n"
     ]
    },
    {
     "data": {
      "application/vnd.microsoft.datawrangler.viewer.v0+json": {
       "columns": [
        {
         "name": "index",
         "rawType": "int64",
         "type": "integer"
        },
        {
         "name": "Task",
         "rawType": "object",
         "type": "string"
        },
        {
         "name": "Execution Time (C)",
         "rawType": "int64",
         "type": "integer"
        },
        {
         "name": "Period (T)",
         "rawType": "int64",
         "type": "integer"
        },
        {
         "name": "Deadline (D)",
         "rawType": "int64",
         "type": "integer"
        },
        {
         "name": "Utilization (C/T)",
         "rawType": "object",
         "type": "string"
        }
       ],
       "ref": "0e9767dd-2b39-4ad7-b9e7-2a0f0a427c18",
       "rows": [
        [
         "0",
         "T1",
         "2",
         "7",
         "5",
         "0.400"
        ],
        [
         "1",
         "T2",
         "4",
         "14",
         "10",
         "0.400"
        ],
        [
         "2",
         "T3",
         "6",
         "21",
         "15",
         "0.400"
        ]
       ],
       "shape": {
        "columns": 5,
        "rows": 3
       }
      },
      "text/html": [
       "<div>\n",
       "<style scoped>\n",
       "    .dataframe tbody tr th:only-of-type {\n",
       "        vertical-align: middle;\n",
       "    }\n",
       "\n",
       "    .dataframe tbody tr th {\n",
       "        vertical-align: top;\n",
       "    }\n",
       "\n",
       "    .dataframe thead th {\n",
       "        text-align: right;\n",
       "    }\n",
       "</style>\n",
       "<table border=\"1\" class=\"dataframe\">\n",
       "  <thead>\n",
       "    <tr style=\"text-align: right;\">\n",
       "      <th></th>\n",
       "      <th>Task</th>\n",
       "      <th>Execution Time (C)</th>\n",
       "      <th>Period (T)</th>\n",
       "      <th>Deadline (D)</th>\n",
       "      <th>Utilization (C/T)</th>\n",
       "    </tr>\n",
       "  </thead>\n",
       "  <tbody>\n",
       "    <tr>\n",
       "      <th>0</th>\n",
       "      <td>T1</td>\n",
       "      <td>2</td>\n",
       "      <td>7</td>\n",
       "      <td>5</td>\n",
       "      <td>0.400</td>\n",
       "    </tr>\n",
       "    <tr>\n",
       "      <th>1</th>\n",
       "      <td>T2</td>\n",
       "      <td>4</td>\n",
       "      <td>14</td>\n",
       "      <td>10</td>\n",
       "      <td>0.400</td>\n",
       "    </tr>\n",
       "    <tr>\n",
       "      <th>2</th>\n",
       "      <td>T3</td>\n",
       "      <td>6</td>\n",
       "      <td>21</td>\n",
       "      <td>15</td>\n",
       "      <td>0.400</td>\n",
       "    </tr>\n",
       "  </tbody>\n",
       "</table>\n",
       "</div>"
      ],
      "text/plain": [
       "  Task  Execution Time (C)  Period (T)  Deadline (D) Utilization (C/T)\n",
       "0   T1                   2           7             5             0.400\n",
       "1   T2                   4          14            10             0.400\n",
       "2   T3                   6          21            15             0.400"
      ]
     },
     "metadata": {},
     "output_type": "display_data"
    },
    {
     "name": "stdout",
     "output_type": "stream",
     "text": [
      "\n",
      "Summary:\n"
     ]
    },
    {
     "data": {
      "application/vnd.microsoft.datawrangler.viewer.v0+json": {
       "columns": [
        {
         "name": "index",
         "rawType": "int64",
         "type": "integer"
        },
        {
         "name": "Metric",
         "rawType": "object",
         "type": "string"
        },
        {
         "name": "Value",
         "rawType": "object",
         "type": "unknown"
        }
       ],
       "ref": "8b23fc57-858f-4879-9fe8-4d462bad2c94",
       "rows": [
        [
         "0",
         "Number of Tasks",
         "3"
        ],
        [
         "1",
         "Total Utilization",
         "1.200"
        ],
        [
         "2",
         "RM Bound",
         "0.780"
        ],
        [
         "3",
         "Schedulable",
         "✗ No"
        ]
       ],
       "shape": {
        "columns": 2,
        "rows": 4
       }
      },
      "text/html": [
       "<div>\n",
       "<style scoped>\n",
       "    .dataframe tbody tr th:only-of-type {\n",
       "        vertical-align: middle;\n",
       "    }\n",
       "\n",
       "    .dataframe tbody tr th {\n",
       "        vertical-align: top;\n",
       "    }\n",
       "\n",
       "    .dataframe thead th {\n",
       "        text-align: right;\n",
       "    }\n",
       "</style>\n",
       "<table border=\"1\" class=\"dataframe\">\n",
       "  <thead>\n",
       "    <tr style=\"text-align: right;\">\n",
       "      <th></th>\n",
       "      <th>Metric</th>\n",
       "      <th>Value</th>\n",
       "    </tr>\n",
       "  </thead>\n",
       "  <tbody>\n",
       "    <tr>\n",
       "      <th>0</th>\n",
       "      <td>Number of Tasks</td>\n",
       "      <td>3</td>\n",
       "    </tr>\n",
       "    <tr>\n",
       "      <th>1</th>\n",
       "      <td>Total Utilization</td>\n",
       "      <td>1.200</td>\n",
       "    </tr>\n",
       "    <tr>\n",
       "      <th>2</th>\n",
       "      <td>RM Bound</td>\n",
       "      <td>0.780</td>\n",
       "    </tr>\n",
       "    <tr>\n",
       "      <th>3</th>\n",
       "      <td>Schedulable</td>\n",
       "      <td>✗ No</td>\n",
       "    </tr>\n",
       "  </tbody>\n",
       "</table>\n",
       "</div>"
      ],
      "text/plain": [
       "              Metric  Value\n",
       "0    Number of Tasks      3\n",
       "1  Total Utilization  1.200\n",
       "2           RM Bound  0.780\n",
       "3        Schedulable   ✗ No"
      ]
     },
     "metadata": {},
     "output_type": "display_data"
    },
    {
     "name": "stdout",
     "output_type": "stream",
     "text": [
      "\n",
      "❌ The task set 3 may not be schedulable (but further analysis needed).\n",
      "\n",
      "\n",
      "\n",
      "--------------------------------------------------\n",
      "\n",
      "📈 Task Set 2 - Deadline Monotonic Schedule:\n"
     ]
    },
    {
     "data": {
      "image/png": "[encoded data removed]",
      "text/plain": [
       "<Figure size 1600x800 with 1 Axes>"
      ]
     },
     "metadata": {},
     "output_type": "display_data"
    }
   ],
   "source": [
    "# Check schedulability using sufficient condition 1\n",
    "print(\"🔍 Schedulability Analysis (Sufficient Condition 1):\")\n",
    "print(\"=\" * 50)\n",
    "\n",
    "def check_schedulability(task_set, set_name):\n",
    "    schedulable = rtm.rate_monotonic_check(task_set, verbose=True)\n",
    "    if schedulable:\n",
    "        print(f\"\\n✅ The {set_name} is schedulable under Deadline Monotonic scheduling.\")\n",
    "    else:\n",
    "        print(f\"\\n❌ The {set_name} may not be schedulable (but further analysis needed).\")\n",
    "    print(\"\\n\\n\")\n",
    "    print(\"-\" * 50)\n",
    "    return schedulable\n",
    "\n",
    "schedulable[0][0] = check_schedulability(task_set_1, \"task set 1\")\n",
    "schedulable[1][0] = check_schedulability(task_set_2, \"task set 2\")\n",
    "schedulable[2][0] = check_schedulability(task_set_3, \"task set 3\")\n",
    "\n",
    "# Generate and display Task Set 2 schedule plot using Deadline Monotonic\n",
    "print(\"\\n📈 Task Set 2 - Deadline Monotonic Schedule:\")\n",
    "tsv.plot_rm_schedule_inline(task_set_2, lcm_cycles=1, algorithm='DM');"
   ]
  },
  {
   "cell_type": "markdown",
   "id": "4e1b5662-95d2-4b97-93e9-856e6cc6b778",
   "metadata": {},
   "source": [
    "---\n",
    "\n",
    "## Sufficient Criteria for Schedulability 2\n",
    "*A little less pessimistic*\n",
    "\n",
    "The response time for task $i$ is calculated as:\n",
    "\n",
    "$$R_i = C_i + I_i = C_i + \\sum_{h=1}^{i-1}{\\left\\lceil{\\frac{D_i}{T_h}}\\right\\rceil C_h} \\leq D_i$$\n",
    "\n",
    "Where:\n",
    "- $R_i$ = Response time of task $i$\n",
    "- $C_i$ = Execution time of task $i$  \n",
    "- $I_i$ = Interference from higher priority tasks\n",
    "- $D_i$ = Deadline of task $i$\n",
    "- $T_h$ = Period of higher priority task $h$"
   ]
  },
  {
   "cell_type": "code",
   "execution_count": 4,
   "id": "83730511-63f4-4b5a-99b9-b854f3d44b6e",
   "metadata": {
    "jupyter": {
     "source_hidden": true
    }
   },
   "outputs": [
    {
     "name": "stdout",
     "output_type": "stream",
     "text": [
      "🔍 Schedulability Analysis (Sufficient Condition 2):\n",
      "==================================================\n",
      "\n",
      "========================================================================================================================\n",
      "DEADLINE-BASED RESPONSE TIME ANALYSIS\n",
      "========================================================================================================================\n"
     ]
    },
    {
     "data": {
      "application/vnd.microsoft.datawrangler.viewer.v0+json": {
       "columns": [
        {
         "name": "index",
         "rawType": "int64",
         "type": "integer"
        },
        {
         "name": "Task",
         "rawType": "object",
         "type": "string"
        },
        {
         "name": "Period (T)",
         "rawType": "int64",
         "type": "integer"
        },
        {
         "name": "Execution (C)",
         "rawType": "int64",
         "type": "integer"
        },
        {
         "name": "Deadline (D)",
         "rawType": "int64",
         "type": "integer"
        },
        {
         "name": "Utilization",
         "rawType": "object",
         "type": "string"
        },
        {
         "name": "Interference (I)",
         "rawType": "object",
         "type": "string"
        },
        {
         "name": "Response Time (R)",
         "rawType": "object",
         "type": "string"
        },
        {
         "name": "R ≤ D",
         "rawType": "object",
         "type": "string"
        }
       ],
       "ref": "955a0121-3fa2-4a48-90c1-f4f59f68c7f7",
       "rows": [
        [
         "0",
         "T1",
         "8",
         "2",
         "6",
         "0.250",
         "0.0",
         "2.0",
         "✓"
        ],
        [
         "1",
         "T2",
         "12",
         "3",
         "10",
         "0.250",
         "4.0",
         "7.0",
         "✓"
        ],
        [
         "2",
         "T3",
         "20",
         "4",
         "18",
         "0.200",
         "12.0",
         "16.0",
         "✓"
        ]
       ],
       "shape": {
        "columns": 8,
        "rows": 3
       }
      },
      "text/html": [
       "<div>\n",
       "<style scoped>\n",
       "    .dataframe tbody tr th:only-of-type {\n",
       "        vertical-align: middle;\n",
       "    }\n",
       "\n",
       "    .dataframe tbody tr th {\n",
       "        vertical-align: top;\n",
       "    }\n",
       "\n",
       "    .dataframe thead th {\n",
       "        text-align: right;\n",
       "    }\n",
       "</style>\n",
       "<table border=\"1\" class=\"dataframe\">\n",
       "  <thead>\n",
       "    <tr style=\"text-align: right;\">\n",
       "      <th></th>\n",
       "      <th>Task</th>\n",
       "      <th>Period (T)</th>\n",
       "      <th>Execution (C)</th>\n",
       "      <th>Deadline (D)</th>\n",
       "      <th>Utilization</th>\n",
       "      <th>Interference (I)</th>\n",
       "      <th>Response Time (R)</th>\n",
       "      <th>R ≤ D</th>\n",
       "    </tr>\n",
       "  </thead>\n",
       "  <tbody>\n",
       "    <tr>\n",
       "      <th>0</th>\n",
       "      <td>T1</td>\n",
       "      <td>8</td>\n",
       "      <td>2</td>\n",
       "      <td>6</td>\n",
       "      <td>0.250</td>\n",
       "      <td>0.0</td>\n",
       "      <td>2.0</td>\n",
       "      <td>✓</td>\n",
       "    </tr>\n",
       "    <tr>\n",
       "      <th>1</th>\n",
       "      <td>T2</td>\n",
       "      <td>12</td>\n",
       "      <td>3</td>\n",
       "      <td>10</td>\n",
       "      <td>0.250</td>\n",
       "      <td>4.0</td>\n",
       "      <td>7.0</td>\n",
       "      <td>✓</td>\n",
       "    </tr>\n",
       "    <tr>\n",
       "      <th>2</th>\n",
       "      <td>T3</td>\n",
       "      <td>20</td>\n",
       "      <td>4</td>\n",
       "      <td>18</td>\n",
       "      <td>0.200</td>\n",
       "      <td>12.0</td>\n",
       "      <td>16.0</td>\n",
       "      <td>✓</td>\n",
       "    </tr>\n",
       "  </tbody>\n",
       "</table>\n",
       "</div>"
      ],
      "text/plain": [
       "  Task  Period (T)  Execution (C)  Deadline (D) Utilization Interference (I)  \\\n",
       "0   T1           8              2             6       0.250              0.0   \n",
       "1   T2          12              3            10       0.250              4.0   \n",
       "2   T3          20              4            18       0.200             12.0   \n",
       "\n",
       "  Response Time (R) R ≤ D  \n",
       "0               2.0     ✓  \n",
       "1               7.0     ✓  \n",
       "2              16.0     ✓  "
      ]
     },
     "metadata": {},
     "output_type": "display_data"
    },
    {
     "name": "stdout",
     "output_type": "stream",
     "text": [
      "\n",
      "Interference Calculation Details:\n",
      "------------------------------------------------------------\n",
      "Task T2: I = ⌈10/8⌉×2=4.0\n",
      "Task T3: I = ⌈18/8⌉×2=6.0 + ⌈18/12⌉×3=6.0\n",
      "\n",
      "SUMMARY:\n",
      "Total Utilization: 0.700\n",
      "Schedulable Tasks: 3/3\n",
      "Overall Status: SCHEDULABLE\n",
      "========================================================================================================================\n",
      "\n",
      "✅ The task set 1 is schedulable under Deadline Monotonic scheduling.\n",
      "\n",
      "--------------------------------------------------\n",
      "\n",
      "========================================================================================================================\n",
      "DEADLINE-BASED RESPONSE TIME ANALYSIS\n",
      "========================================================================================================================\n"
     ]
    },
    {
     "data": {
      "application/vnd.microsoft.datawrangler.viewer.v0+json": {
       "columns": [
        {
         "name": "index",
         "rawType": "int64",
         "type": "integer"
        },
        {
         "name": "Task",
         "rawType": "object",
         "type": "string"
        },
        {
         "name": "Period (T)",
         "rawType": "int64",
         "type": "integer"
        },
        {
         "name": "Execution (C)",
         "rawType": "int64",
         "type": "integer"
        },
        {
         "name": "Deadline (D)",
         "rawType": "int64",
         "type": "integer"
        },
        {
         "name": "Utilization",
         "rawType": "object",
         "type": "string"
        },
        {
         "name": "Interference (I)",
         "rawType": "object",
         "type": "string"
        },
        {
         "name": "Response Time (R)",
         "rawType": "object",
         "type": "string"
        },
        {
         "name": "R ≤ D",
         "rawType": "object",
         "type": "string"
        }
       ],
       "ref": "0a27b98a-324c-4458-842e-e00b06e13366",
       "rows": [
        [
         "0",
         "T1",
         "6",
         "1",
         "4",
         "0.167",
         "0.0",
         "1.0",
         "✓"
        ],
        [
         "1",
         "T2",
         "10",
         "3",
         "8",
         "0.300",
         "2.0",
         "5.0",
         "✓"
        ],
        [
         "2",
         "T3",
         "15",
         "4",
         "12",
         "0.267",
         "8.0",
         "12.0",
         "✓"
        ]
       ],
       "shape": {
        "columns": 8,
        "rows": 3
       }
      },
      "text/html": [
       "<div>\n",
       "<style scoped>\n",
       "    .dataframe tbody tr th:only-of-type {\n",
       "        vertical-align: middle;\n",
       "    }\n",
       "\n",
       "    .dataframe tbody tr th {\n",
       "        vertical-align: top;\n",
       "    }\n",
       "\n",
       "    .dataframe thead th {\n",
       "        text-align: right;\n",
       "    }\n",
       "</style>\n",
       "<table border=\"1\" class=\"dataframe\">\n",
       "  <thead>\n",
       "    <tr style=\"text-align: right;\">\n",
       "      <th></th>\n",
       "      <th>Task</th>\n",
       "      <th>Period (T)</th>\n",
       "      <th>Execution (C)</th>\n",
       "      <th>Deadline (D)</th>\n",
       "      <th>Utilization</th>\n",
       "      <th>Interference (I)</th>\n",
       "      <th>Response Time (R)</th>\n",
       "      <th>R ≤ D</th>\n",
       "    </tr>\n",
       "  </thead>\n",
       "  <tbody>\n",
       "    <tr>\n",
       "      <th>0</th>\n",
       "      <td>T1</td>\n",
       "      <td>6</td>\n",
       "      <td>1</td>\n",
       "      <td>4</td>\n",
       "      <td>0.167</td>\n",
       "      <td>0.0</td>\n",
       "      <td>1.0</td>\n",
       "      <td>✓</td>\n",
       "    </tr>\n",
       "    <tr>\n",
       "      <th>1</th>\n",
       "      <td>T2</td>\n",
       "      <td>10</td>\n",
       "      <td>3</td>\n",
       "      <td>8</td>\n",
       "      <td>0.300</td>\n",
       "      <td>2.0</td>\n",
       "      <td>5.0</td>\n",
       "      <td>✓</td>\n",
       "    </tr>\n",
       "    <tr>\n",
       "      <th>2</th>\n",
       "      <td>T3</td>\n",
       "      <td>15</td>\n",
       "      <td>4</td>\n",
       "      <td>12</td>\n",
       "      <td>0.267</td>\n",
       "      <td>8.0</td>\n",
       "      <td>12.0</td>\n",
       "      <td>✓</td>\n",
       "    </tr>\n",
       "  </tbody>\n",
       "</table>\n",
       "</div>"
      ],
      "text/plain": [
       "  Task  Period (T)  Execution (C)  Deadline (D) Utilization Interference (I)  \\\n",
       "0   T1           6              1             4       0.167              0.0   \n",
       "1   T2          10              3             8       0.300              2.0   \n",
       "2   T3          15              4            12       0.267              8.0   \n",
       "\n",
       "  Response Time (R) R ≤ D  \n",
       "0               1.0     ✓  \n",
       "1               5.0     ✓  \n",
       "2              12.0     ✓  "
      ]
     },
     "metadata": {},
     "output_type": "display_data"
    },
    {
     "name": "stdout",
     "output_type": "stream",
     "text": [
      "\n",
      "Interference Calculation Details:\n",
      "------------------------------------------------------------\n",
      "Task T2: I = ⌈8/6⌉×1=2.0\n",
      "Task T3: I = ⌈12/6⌉×1=2.0 + ⌈12/10⌉×3=6.0\n",
      "\n",
      "SUMMARY:\n",
      "Total Utilization: 0.733\n",
      "Schedulable Tasks: 3/3\n",
      "Overall Status: SCHEDULABLE\n",
      "========================================================================================================================\n",
      "\n",
      "✅ The task set 2 is schedulable under Deadline Monotonic scheduling.\n",
      "\n",
      "--------------------------------------------------\n",
      "\n",
      "========================================================================================================================\n",
      "DEADLINE-BASED RESPONSE TIME ANALYSIS\n",
      "========================================================================================================================\n"
     ]
    },
    {
     "data": {
      "application/vnd.microsoft.datawrangler.viewer.v0+json": {
       "columns": [
        {
         "name": "index",
         "rawType": "int64",
         "type": "integer"
        },
        {
         "name": "Task",
         "rawType": "object",
         "type": "string"
        },
        {
         "name": "Period (T)",
         "rawType": "int64",
         "type": "integer"
        },
        {
         "name": "Execution (C)",
         "rawType": "int64",
         "type": "integer"
        },
        {
         "name": "Deadline (D)",
         "rawType": "int64",
         "type": "integer"
        },
        {
         "name": "Utilization",
         "rawType": "object",
         "type": "string"
        },
        {
         "name": "Interference (I)",
         "rawType": "object",
         "type": "string"
        },
        {
         "name": "Response Time (R)",
         "rawType": "object",
         "type": "string"
        },
        {
         "name": "R ≤ D",
         "rawType": "object",
         "type": "string"
        }
       ],
       "ref": "a71c8f6b-6376-4577-b897-4dd6b3d78c24",
       "rows": [
        [
         "0",
         "T1",
         "7",
         "2",
         "5",
         "0.286",
         "0.0",
         "2.0",
         "✓"
        ],
        [
         "1",
         "T2",
         "14",
         "4",
         "10",
         "0.286",
         "4.0",
         "8.0",
         "✓"
        ],
        [
         "2",
         "T3",
         "21",
         "6",
         "15",
         "0.286",
         "14.0",
         "20.0",
         "✗"
        ]
       ],
       "shape": {
        "columns": 8,
        "rows": 3
       }
      },
      "text/html": [
       "<div>\n",
       "<style scoped>\n",
       "    .dataframe tbody tr th:only-of-type {\n",
       "        vertical-align: middle;\n",
       "    }\n",
       "\n",
       "    .dataframe tbody tr th {\n",
       "        vertical-align: top;\n",
       "    }\n",
       "\n",
       "    .dataframe thead th {\n",
       "        text-align: right;\n",
       "    }\n",
       "</style>\n",
       "<table border=\"1\" class=\"dataframe\">\n",
       "  <thead>\n",
       "    <tr style=\"text-align: right;\">\n",
       "      <th></th>\n",
       "      <th>Task</th>\n",
       "      <th>Period (T)</th>\n",
       "      <th>Execution (C)</th>\n",
       "      <th>Deadline (D)</th>\n",
       "      <th>Utilization</th>\n",
       "      <th>Interference (I)</th>\n",
       "      <th>Response Time (R)</th>\n",
       "      <th>R ≤ D</th>\n",
       "    </tr>\n",
       "  </thead>\n",
       "  <tbody>\n",
       "    <tr>\n",
       "      <th>0</th>\n",
       "      <td>T1</td>\n",
       "      <td>7</td>\n",
       "      <td>2</td>\n",
       "      <td>5</td>\n",
       "      <td>0.286</td>\n",
       "      <td>0.0</td>\n",
       "      <td>2.0</td>\n",
       "      <td>✓</td>\n",
       "    </tr>\n",
       "    <tr>\n",
       "      <th>1</th>\n",
       "      <td>T2</td>\n",
       "      <td>14</td>\n",
       "      <td>4</td>\n",
       "      <td>10</td>\n",
       "      <td>0.286</td>\n",
       "      <td>4.0</td>\n",
       "      <td>8.0</td>\n",
       "      <td>✓</td>\n",
       "    </tr>\n",
       "    <tr>\n",
       "      <th>2</th>\n",
       "      <td>T3</td>\n",
       "      <td>21</td>\n",
       "      <td>6</td>\n",
       "      <td>15</td>\n",
       "      <td>0.286</td>\n",
       "      <td>14.0</td>\n",
       "      <td>20.0</td>\n",
       "      <td>✗</td>\n",
       "    </tr>\n",
       "  </tbody>\n",
       "</table>\n",
       "</div>"
      ],
      "text/plain": [
       "  Task  Period (T)  Execution (C)  Deadline (D) Utilization Interference (I)  \\\n",
       "0   T1           7              2             5       0.286              0.0   \n",
       "1   T2          14              4            10       0.286              4.0   \n",
       "2   T3          21              6            15       0.286             14.0   \n",
       "\n",
       "  Response Time (R) R ≤ D  \n",
       "0               2.0     ✓  \n",
       "1               8.0     ✓  \n",
       "2              20.0     ✗  "
      ]
     },
     "metadata": {},
     "output_type": "display_data"
    },
    {
     "name": "stdout",
     "output_type": "stream",
     "text": [
      "\n",
      "Interference Calculation Details:\n",
      "------------------------------------------------------------\n",
      "Task T2: I = ⌈10/7⌉×2=4.0\n",
      "Task T3: I = ⌈15/7⌉×2=6.0 + ⌈15/14⌉×4=8.0\n",
      "\n",
      "SUMMARY:\n",
      "Total Utilization: 0.857\n",
      "Schedulable Tasks: 2/3\n",
      "Overall Status: NOT SCHEDULABLE\n",
      "========================================================================================================================\n",
      "\n",
      "❌ The task set 3 may not be schedulable (but further analysis needed).\n",
      "\n",
      "--------------------------------------------------\n"
     ]
    }
   ],
   "source": [
    "# Check schedulability using sufficient condition 2\n",
    "print(\"🔍 Schedulability Analysis (Sufficient Condition 2):\")\n",
    "print(\"=\" * 50)\n",
    "\n",
    "def check_schedulability_v2(task_set, set_name):\n",
    "    schedulable_result = rtm.rate_monotonic_check_1(task_set, verbose=True)\n",
    "    if schedulable_result:\n",
    "        print(f\"\\n✅ The {set_name} is schedulable under Deadline Monotonic scheduling.\")\n",
    "    else:\n",
    "        print(f\"\\n❌ The {set_name} may not be schedulable (but further analysis needed).\")\n",
    "    print(\"\\n\" + \"-\" * 50)\n",
    "    return schedulable_result\n",
    "\n",
    "schedulable[0][1] = check_schedulability_v2(task_set_1, \"task set 1\")\n",
    "schedulable[1][1] = check_schedulability_v2(task_set_2, \"task set 2\")\n",
    "schedulable[2][1] = check_schedulability_v2(task_set_3, \"task set 3\")"
   ]
  },
  {
   "cell_type": "markdown",
   "id": "a80ba45d-f022-49a9-91af-9eda65050761",
   "metadata": {},
   "source": [
    "---\n",
    "\n",
    "## Necessary and Sufficient: Response Time Analysis\n",
    "*Exact schedulability test*"
   ]
  },
  {
   "cell_type": "markdown",
   "id": "7b25ec4d-db3a-4f95-ac05-79b2ebc6a064",
   "metadata": {},
   "source": [
    "The **exact response time analysis** uses an iterative approach:\n",
    "\n",
    "$$R_i^{(k+1)} = C_i + \\sum_{h=1}^{i-1}{\\left\\lceil{\\frac{R_i^{(k)}}{T_h}}\\right\\rceil C_h}$$\n",
    "\n",
    "The iteration continues until $R_i^{(k+1)} = R_i^{(k)}$ (convergence) or $R_i^{(k)} > D_i$ (deadline miss).\n",
    "\n",
    "**Schedulability condition**: $R_i \\leq D_i$ for all tasks $i$"
   ]
  },
  {
   "cell_type": "code",
   "execution_count": 5,
   "id": "0a93a200-f027-48ae-ae1a-41ffa36b1fe1",
   "metadata": {
    "jupyter": {
     "source_hidden": true
    }
   },
   "outputs": [
    {
     "name": "stdout",
     "output_type": "stream",
     "text": [
      "🔍 Response Time Analysis (Necessary & Sufficient Test):\n",
      "=======================================================\n",
      "\n",
      "📝 Task Set 1:\n",
      "\n",
      "================================================================================\n",
      "RESPONSE TIME ANALYSIS RESULTS\n",
      "================================================================================\n",
      "Task  Period (T)  Execution (C)  Deadline (D) Utilization Response Time (R) R ≤ D      Status\n",
      "  T1           8              2             6       0.333               2.0     ✓ Schedulable\n",
      "  T2          12              3            10       0.300               5.0     ✓ Schedulable\n",
      "  T3          20              4            18       0.222              11.0     ✓ Schedulable\n",
      "================================================================================\n",
      "\n",
      "SUMMARY:\n",
      "Total Utilization: 0.700\n",
      "Schedulable Tasks: 3/3\n",
      "Overall Status: SCHEDULABLE\n",
      "================================================================================\n",
      "\n",
      "📝 Task Set 2:\n",
      "\n",
      "================================================================================\n",
      "RESPONSE TIME ANALYSIS RESULTS\n",
      "================================================================================\n",
      "Task  Period (T)  Execution (C)  Deadline (D) Utilization Response Time (R) R ≤ D      Status\n",
      "  T1           6              1             4       0.250               1.0     ✓ Schedulable\n",
      "  T2          10              3             8       0.375               4.0     ✓ Schedulable\n",
      "  T3          15              4            12       0.333               9.0     ✓ Schedulable\n",
      "================================================================================\n",
      "\n",
      "SUMMARY:\n",
      "Total Utilization: 0.733\n",
      "Schedulable Tasks: 3/3\n",
      "Overall Status: SCHEDULABLE\n",
      "================================================================================\n",
      "\n",
      "📝 Task Set 3:\n",
      "\n",
      "================================================================================\n",
      "RESPONSE TIME ANALYSIS RESULTS\n",
      "================================================================================\n",
      "Task  Period (T)  Execution (C)  Deadline (D) Utilization Response Time (R) R ≤ D      Status\n",
      "  T1           7              2             5       0.400               2.0     ✓ Schedulable\n",
      "  T2          14              4            10       0.400               6.0     ✓ Schedulable\n",
      "  T3          21              6            15       0.400              14.0     ✓ Schedulable\n",
      "================================================================================\n",
      "\n",
      "SUMMARY:\n",
      "Total Utilization: 0.857\n",
      "Schedulable Tasks: 3/3\n",
      "Overall Status: SCHEDULABLE\n",
      "================================================================================\n",
      "\n",
      "📈 Task Set 3 - Deadline Monotonic Schedule:\n"
     ]
    },
    {
     "data": {
      "image/png": "[encoded data removed]",
      "text/plain": [
       "<Figure size 1600x800 with 1 Axes>"
      ]
     },
     "metadata": {},
     "output_type": "display_data"
    }
   ],
   "source": [
    "# Response Time Analysis\n",
    "print(\"🔍 Response Time Analysis (Necessary & Sufficient Test):\")\n",
    "print(\"=\" * 55)\n",
    "\n",
    "def run_response_time_analysis(task_set, set_name):\n",
    "    # Sort tasks by deadline (Deadline Monotonic priority order)\n",
    "    sorted_tasks = sorted(task_set, key=lambda x: x.deadline)\n",
    "    # Perform response time analysis\n",
    "    schedulable_rt, response_times = rtm.response_time_analysis(task_set)\n",
    "    # Display results in a formatted table\n",
    "    print(f\"\\n📝 {set_name}:\")\n",
    "    rtm.display_response_time_table(task_set, response_times, schedulable_rt)\n",
    "    return schedulable_rt\n",
    "\n",
    "schedulable[0][2] = run_response_time_analysis(task_set_1, \"Task Set 1\")\n",
    "schedulable[1][2] = run_response_time_analysis(task_set_2, \"Task Set 2\")\n",
    "schedulable[2][2] = run_response_time_analysis(task_set_3, \"Task Set 3\")\n",
    "\n",
    "# Generate and display Task Set 3 schedule plot using Deadline Monotonic\n",
    "print(\"\\n📈 Task Set 3 - Deadline Monotonic Schedule:\")\n",
    "tsv.plot_rm_schedule_inline(task_set_3, lcm_cycles=1, algorithm='DM');"
   ]
  },
  {
   "cell_type": "code",
   "execution_count": 6,
   "id": "291b09d9-0116-4e3c-b90b-33b18ec51c9d",
   "metadata": {
    "jupyter": {
     "source_hidden": true
    }
   },
   "outputs": [
    {
     "name": "stdout",
     "output_type": "stream",
     "text": [
      "📊 **Test Results Summary**\n",
      "==================================================\n"
     ]
    },
    {
     "data": {
      "application/vnd.microsoft.datawrangler.viewer.v0+json": {
       "columns": [
        {
         "name": "index",
         "rawType": "int64",
         "type": "integer"
        },
        {
         "name": "Method",
         "rawType": "object",
         "type": "string"
        },
        {
         "name": "Task Set 1",
         "rawType": "object",
         "type": "string"
        },
        {
         "name": "Task Set 2",
         "rawType": "object",
         "type": "string"
        },
        {
         "name": "Task Set 3",
         "rawType": "object",
         "type": "string"
        }
       ],
       "ref": "08efa79f-f288-43ff-bfc9-c1b9663b0316",
       "rows": [
        [
         "0",
         "Sufficient Condition 1",
         "❌ Not Schedulable",
         "❌ Not Schedulable",
         "❌ Not Schedulable"
        ],
        [
         "1",
         "Sufficient Condition 2",
         "✅ Schedulable",
         "✅ Schedulable",
         "❌ Not Schedulable"
        ],
        [
         "2",
         "Response Time Analysis",
         "✅ Schedulable",
         "✅ Schedulable",
         "✅ Schedulable"
        ]
       ],
       "shape": {
        "columns": 4,
        "rows": 3
       }
      },
      "text/html": [
       "<div>\n",
       "<style scoped>\n",
       "    .dataframe tbody tr th:only-of-type {\n",
       "        vertical-align: middle;\n",
       "    }\n",
       "\n",
       "    .dataframe tbody tr th {\n",
       "        vertical-align: top;\n",
       "    }\n",
       "\n",
       "    .dataframe thead th {\n",
       "        text-align: right;\n",
       "    }\n",
       "</style>\n",
       "<table border=\"1\" class=\"dataframe\">\n",
       "  <thead>\n",
       "    <tr style=\"text-align: right;\">\n",
       "      <th></th>\n",
       "      <th>Method</th>\n",
       "      <th>Task Set 1</th>\n",
       "      <th>Task Set 2</th>\n",
       "      <th>Task Set 3</th>\n",
       "    </tr>\n",
       "  </thead>\n",
       "  <tbody>\n",
       "    <tr>\n",
       "      <th>0</th>\n",
       "      <td>Sufficient Condition 1</td>\n",
       "      <td>❌ Not Schedulable</td>\n",
       "      <td>❌ Not Schedulable</td>\n",
       "      <td>❌ Not Schedulable</td>\n",
       "    </tr>\n",
       "    <tr>\n",
       "      <th>1</th>\n",
       "      <td>Sufficient Condition 2</td>\n",
       "      <td>✅ Schedulable</td>\n",
       "      <td>✅ Schedulable</td>\n",
       "      <td>❌ Not Schedulable</td>\n",
       "    </tr>\n",
       "    <tr>\n",
       "      <th>2</th>\n",
       "      <td>Response Time Analysis</td>\n",
       "      <td>✅ Schedulable</td>\n",
       "      <td>✅ Schedulable</td>\n",
       "      <td>✅ Schedulable</td>\n",
       "    </tr>\n",
       "  </tbody>\n",
       "</table>\n",
       "</div>"
      ],
      "text/plain": [
       "                   Method         Task Set 1         Task Set 2  \\\n",
       "0  Sufficient Condition 1  ❌ Not Schedulable  ❌ Not Schedulable   \n",
       "1  Sufficient Condition 2      ✅ Schedulable      ✅ Schedulable   \n",
       "2  Response Time Analysis      ✅ Schedulable      ✅ Schedulable   \n",
       "\n",
       "          Task Set 3  \n",
       "0  ❌ Not Schedulable  \n",
       "1  ❌ Not Schedulable  \n",
       "2      ✅ Schedulable  "
      ]
     },
     "metadata": {},
     "output_type": "display_data"
    }
   ],
   "source": [
    "# Generate Summary Table from Results\n",
    "print(\"📊 **Test Results Summary**\")\n",
    "print(\"=\" * 50)\n",
    "\n",
    "# Method names\n",
    "methods = [\"Sufficient Condition 1\", \"Sufficient Condition 2\", \"Response Time Analysis\"]\n",
    "task_sets = [\"Task Set 1\", \"Task Set 2\", \"Task Set 3\"]\n",
    "\n",
    "# Create summary table\n",
    "summary_data = []\n",
    "for i, method in enumerate(methods):\n",
    "    row = [method]\n",
    "    for j in range(3):  # 3 task sets\n",
    "        if schedulable[j][i] is not None:\n",
    "            result = schedulable[j][i]\n",
    "            if result:\n",
    "                row.append(\"✅ Schedulable\")\n",
    "            else:\n",
    "                row.append(\"❌ Not Schedulable\")\n",
    "        else:\n",
    "            row.append(\"-\")\n",
    "    summary_data.append(row)\n",
    "\n",
    "# Create DataFrame for better display\n",
    "summary_df = pd.DataFrame(summary_data, columns=[\"Method\"] + task_sets)\n",
    "display(summary_df)\n"
   ]
  },
  {
   "cell_type": "markdown",
   "id": "79c76033",
   "metadata": {},
   "source": [
    "---\n",
    "\n",
    "## Summary and Conclusions\n",
    "\n",
    "This notebook demonstrated three different approaches to analyze **Deadline Monotonic scheduling**:\n",
    "\n",
    "### 🔑 **Key Takeaways**\n",
    "\n",
    "1. **Sufficient conditions** are pessimistic but computationally efficient\n",
    "   - They may fail to identify schedulable task sets (false negatives)\n",
    "   - Useful for quick initial screening\n",
    "\n",
    "2. **Response time analysis** provides the exact schedulability test\n",
    "   - Most accurate but computationally intensive\n",
    "   - Necessary and sufficient condition\n",
    "\n",
    "3. **Deadline Monotonic** is optimal among fixed-priority algorithms\n",
    "   - Tasks with **shorter deadlines** get **higher priority**\n",
    "   - Can handle cases where D ≤ T (unlike Rate Monotonic)\n",
    "\n",
    "### 🎯 **When to Use Each Method**\n",
    "\n",
    "- **Sufficient Condition 1**: Quick initial check (fastest, most pessimistic)\n",
    "- **Sufficient Condition 2**: When condition 1 fails but you want a fast test\n",
    "- **Response Time Analysis**: When you need the definitive answer (exact test)\n",
    "\n",
    "### 💡 **Practical Insights**\n",
    "\n",
    "- The progression from sufficient conditions to exact analysis shows increasing accuracy\n",
    "- Higher utilization doesn't always mean unschedulable\n",
    "- Deadline constraints matter more than periods in DM scheduling\n",
    "- Always use response time analysis for final validation\n",
    "\n",
    "---\n",
    "\n",
    "*📚 This completes our analysis of Deadline Monotonic scheduling algorithms.*"
   ]
  },
  {
   "cell_type": "code",
   "execution_count": null,
   "id": "8c044413-f8f1-4f71-8c11-c9059d135ed2",
   "metadata": {
    "jupyter": {
     "source_hidden": true
    }
   },
   "outputs": [],
   "source": []
  }
 ],
 "metadata": {
  "kernelspec": {
   "display_name": "Python 3",
   "language": "python",
   "name": "python3"
  },
  "language_info": {
   "codemirror_mode": {
    "name": "ipython",
    "version": 3
   },
   "file_extension": ".py",
   "mimetype": "text/x-python",
   "name": "python",
   "nbconvert_exporter": "python",
   "pygments_lexer": "ipython3",
   "version": "3.13.3"
  }
 },
 "nbformat": 4,
 "nbformat_minor": 5
}
