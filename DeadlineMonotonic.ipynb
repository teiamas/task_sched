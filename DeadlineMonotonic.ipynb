{
 "cells": [
  {
   "attachments": {
    "9fdd5726-f25e-411c-8ccd-32f8c105adad.png": {
     "image/png": "[encoded data removed]"
    }
   },
   "cell_type": "markdown",
   "id": "308fd72f-3554-4617-a1fa-8b2d1c399e1d",
   "metadata": {},
   "source": [
    "# Periodic Task Schedling: Deadline Monotnic\n",
    "DM is an extension of Rate Monotonic, where tasks can have relative deadlines less than or equal to their period\n",
    "<br>\n",
    "![RM_Param.png](attachment:9fdd5726-f25e-411c-8ccd-32f8c105adad.png)\n",
    "<br>\n",
    "According to the DM algorithm, each task is assigned a fixed- priority  inversely proportional to its relative deadline  .\n",
    "Thus, at any instant, the task with the shortest relative deadline is executed.\n",
    "Since relative deadlines are constant, DM is a static priority assignment.\u000b",
    "\n",
    "\n",
    "Optimal i.e. a set of tasks is schedulable with fixed priority algo A => is schedulable with DM<br>\n",
    "## Sufficient criteria for schedulability 1\n",
    "simple but a little pessimistic\n",
    "$$\\sum_{i=1}^n{\\frac{C_i}{D_i}-1}<=n(2^{\\frac{1}{n}}-1)$$\n",
    "\n",
    "## Example"
   ]
  },
  {
   "cell_type": "code",
   "execution_count": 1,
   "id": "3524c685-19a5-41e7-83cb-a043fbfbdbed",
   "metadata": {},
   "outputs": [
    {
     "data": {
      "text/html": [
       "<div>\n",
       "<style scoped>\n",
       "    .dataframe tbody tr th:only-of-type {\n",
       "        vertical-align: middle;\n",
       "    }\n",
       "\n",
       "    .dataframe tbody tr th {\n",
       "        vertical-align: top;\n",
       "    }\n",
       "\n",
       "    .dataframe thead th {\n",
       "        text-align: right;\n",
       "    }\n",
       "</style>\n",
       "<table border=\"1\" class=\"dataframe\">\n",
       "  <thead>\n",
       "    <tr style=\"text-align: right;\">\n",
       "      <th></th>\n",
       "      <th>Period</th>\n",
       "      <th>Deadline</th>\n",
       "      <th>Execution Time</th>\n",
       "    </tr>\n",
       "  </thead>\n",
       "  <tbody>\n",
       "    <tr>\n",
       "      <th>0</th>\n",
       "      <td>8</td>\n",
       "      <td>4</td>\n",
       "      <td>2</td>\n",
       "    </tr>\n",
       "    <tr>\n",
       "      <th>1</th>\n",
       "      <td>14</td>\n",
       "      <td>10</td>\n",
       "      <td>5</td>\n",
       "    </tr>\n",
       "    <tr>\n",
       "      <th>2</th>\n",
       "      <td>24</td>\n",
       "      <td>12</td>\n",
       "      <td>6</td>\n",
       "    </tr>\n",
       "  </tbody>\n",
       "</table>\n",
       "</div>"
      ],
      "text/plain": [
       "   Period  Deadline  Execution Time\n",
       "0       8         4               2\n",
       "1      14        10               5\n",
       "2      24        12               6"
      ]
     },
     "metadata": {},
     "output_type": "display_data"
    }
   ],
   "source": [
    "import pandas as pd\n",
    "from   IPython.display import display, Markdown\n",
    "import rate_monotonic as rtm\n",
    "\n",
    "task_set = [\n",
    "        rtm.Task(period=8,  deadline=4 ,execution_time=2),\n",
    "        rtm.Task(period=14, deadline=10,execution_time=5),\n",
    "        rtm.Task(period=24, deadline=12,execution_time=6)\n",
    "    ]\n",
    "task_matrix = [[row.period,row.deadline,row.execution_time] for row in task_set]\n",
    "display(pd.DataFrame(task_matrix, columns=['Period', 'Deadline', 'Execution Time']))\n"
   ]
  },
  {
   "cell_type": "code",
   "execution_count": 2,
   "id": "36fc0fc4-a5f8-4cbb-8376-1a06b47fa174",
   "metadata": {
    "scrolled": true
   },
   "outputs": [
    {
     "name": "stdout",
     "output_type": "stream",
     "text": [
      "Rate Monotonic Schedulability Analysis\n",
      "==================================================\n"
     ]
    },
    {
     "data": {
      "text/html": [
       "<div>\n",
       "<style scoped>\n",
       "    .dataframe tbody tr th:only-of-type {\n",
       "        vertical-align: middle;\n",
       "    }\n",
       "\n",
       "    .dataframe tbody tr th {\n",
       "        vertical-align: top;\n",
       "    }\n",
       "\n",
       "    .dataframe thead th {\n",
       "        text-align: right;\n",
       "    }\n",
       "</style>\n",
       "<table border=\"1\" class=\"dataframe\">\n",
       "  <thead>\n",
       "    <tr style=\"text-align: right;\">\n",
       "      <th></th>\n",
       "      <th>Task</th>\n",
       "      <th>Execution Time (C)</th>\n",
       "      <th>Period (T)</th>\n",
       "      <th>Deadline (D)</th>\n",
       "      <th>Utilization (C/T)</th>\n",
       "    </tr>\n",
       "  </thead>\n",
       "  <tbody>\n",
       "    <tr>\n",
       "      <th>0</th>\n",
       "      <td>T1</td>\n",
       "      <td>2</td>\n",
       "      <td>8</td>\n",
       "      <td>4</td>\n",
       "      <td>0.500</td>\n",
       "    </tr>\n",
       "    <tr>\n",
       "      <th>1</th>\n",
       "      <td>T2</td>\n",
       "      <td>5</td>\n",
       "      <td>14</td>\n",
       "      <td>10</td>\n",
       "      <td>0.500</td>\n",
       "    </tr>\n",
       "    <tr>\n",
       "      <th>2</th>\n",
       "      <td>T3</td>\n",
       "      <td>6</td>\n",
       "      <td>24</td>\n",
       "      <td>12</td>\n",
       "      <td>0.500</td>\n",
       "    </tr>\n",
       "  </tbody>\n",
       "</table>\n",
       "</div>"
      ],
      "text/plain": [
       "  Task  Execution Time (C)  Period (T)  Deadline (D) Utilization (C/T)\n",
       "0   T1                   2           8             4             0.500\n",
       "1   T2                   5          14            10             0.500\n",
       "2   T3                   6          24            12             0.500"
      ]
     },
     "metadata": {},
     "output_type": "display_data"
    },
    {
     "name": "stdout",
     "output_type": "stream",
     "text": [
      "\n",
      "Summary:\n"
     ]
    },
    {
     "data": {
      "text/html": [
       "<div>\n",
       "<style scoped>\n",
       "    .dataframe tbody tr th:only-of-type {\n",
       "        vertical-align: middle;\n",
       "    }\n",
       "\n",
       "    .dataframe tbody tr th {\n",
       "        vertical-align: top;\n",
       "    }\n",
       "\n",
       "    .dataframe thead th {\n",
       "        text-align: right;\n",
       "    }\n",
       "</style>\n",
       "<table border=\"1\" class=\"dataframe\">\n",
       "  <thead>\n",
       "    <tr style=\"text-align: right;\">\n",
       "      <th></th>\n",
       "      <th>Metric</th>\n",
       "      <th>Value</th>\n",
       "    </tr>\n",
       "  </thead>\n",
       "  <tbody>\n",
       "    <tr>\n",
       "      <th>0</th>\n",
       "      <td>Number of Tasks</td>\n",
       "      <td>3</td>\n",
       "    </tr>\n",
       "    <tr>\n",
       "      <th>1</th>\n",
       "      <td>Total Utilization</td>\n",
       "      <td>1.500</td>\n",
       "    </tr>\n",
       "    <tr>\n",
       "      <th>2</th>\n",
       "      <td>RM Bound</td>\n",
       "      <td>0.780</td>\n",
       "    </tr>\n",
       "    <tr>\n",
       "      <th>3</th>\n",
       "      <td>Schedulable</td>\n",
       "      <td>✗ No</td>\n",
       "    </tr>\n",
       "  </tbody>\n",
       "</table>\n",
       "</div>"
      ],
      "text/plain": [
       "              Metric  Value\n",
       "0    Number of Tasks      3\n",
       "1  Total Utilization  1.500\n",
       "2           RM Bound  0.780\n",
       "3        Schedulable   ✗ No"
      ]
     },
     "metadata": {},
     "output_type": "display_data"
    }
   ],
   "source": [
    "# Check schedulability\n",
    "schedulable = rtm.rate_monotonic_check(task_set, verbose=True)\n",
    "if schedulable:\n",
    "    print(\"The task set is schedulable under Rate Monotonic scheduling.\")"
   ]
  },
  {
   "cell_type": "markdown",
   "id": "557e943b-7346-4a3f-b971-bd377af5ab41",
   "metadata": {},
   "source": [
    "## Example 2"
   ]
  },
  {
   "cell_type": "code",
   "execution_count": 3,
   "id": "4f772442-173d-4ef7-8b49-389b4d332b1e",
   "metadata": {},
   "outputs": [
    {
     "data": {
      "text/html": [
       "<div>\n",
       "<style scoped>\n",
       "    .dataframe tbody tr th:only-of-type {\n",
       "        vertical-align: middle;\n",
       "    }\n",
       "\n",
       "    .dataframe tbody tr th {\n",
       "        vertical-align: top;\n",
       "    }\n",
       "\n",
       "    .dataframe thead th {\n",
       "        text-align: right;\n",
       "    }\n",
       "</style>\n",
       "<table border=\"1\" class=\"dataframe\">\n",
       "  <thead>\n",
       "    <tr style=\"text-align: right;\">\n",
       "      <th></th>\n",
       "      <th>Period</th>\n",
       "      <th>Deadline</th>\n",
       "      <th>Execution Time</th>\n",
       "    </tr>\n",
       "  </thead>\n",
       "  <tbody>\n",
       "    <tr>\n",
       "      <th>0</th>\n",
       "      <td>8</td>\n",
       "      <td>6</td>\n",
       "      <td>1</td>\n",
       "    </tr>\n",
       "    <tr>\n",
       "      <th>1</th>\n",
       "      <td>14</td>\n",
       "      <td>12</td>\n",
       "      <td>5</td>\n",
       "    </tr>\n",
       "    <tr>\n",
       "      <th>2</th>\n",
       "      <td>24</td>\n",
       "      <td>24</td>\n",
       "      <td>6</td>\n",
       "    </tr>\n",
       "  </tbody>\n",
       "</table>\n",
       "</div>"
      ],
      "text/plain": [
       "   Period  Deadline  Execution Time\n",
       "0       8         6               1\n",
       "1      14        12               5\n",
       "2      24        24               6"
      ]
     },
     "metadata": {},
     "output_type": "display_data"
    },
    {
     "name": "stdout",
     "output_type": "stream",
     "text": [
      "Rate Monotonic Schedulability Analysis\n",
      "==================================================\n"
     ]
    },
    {
     "data": {
      "text/html": [
       "<div>\n",
       "<style scoped>\n",
       "    .dataframe tbody tr th:only-of-type {\n",
       "        vertical-align: middle;\n",
       "    }\n",
       "\n",
       "    .dataframe tbody tr th {\n",
       "        vertical-align: top;\n",
       "    }\n",
       "\n",
       "    .dataframe thead th {\n",
       "        text-align: right;\n",
       "    }\n",
       "</style>\n",
       "<table border=\"1\" class=\"dataframe\">\n",
       "  <thead>\n",
       "    <tr style=\"text-align: right;\">\n",
       "      <th></th>\n",
       "      <th>Task</th>\n",
       "      <th>Execution Time (C)</th>\n",
       "      <th>Period (T)</th>\n",
       "      <th>Deadline (D)</th>\n",
       "      <th>Utilization (C/T)</th>\n",
       "    </tr>\n",
       "  </thead>\n",
       "  <tbody>\n",
       "    <tr>\n",
       "      <th>0</th>\n",
       "      <td>T1</td>\n",
       "      <td>1</td>\n",
       "      <td>8</td>\n",
       "      <td>6</td>\n",
       "      <td>0.167</td>\n",
       "    </tr>\n",
       "    <tr>\n",
       "      <th>1</th>\n",
       "      <td>T2</td>\n",
       "      <td>5</td>\n",
       "      <td>14</td>\n",
       "      <td>12</td>\n",
       "      <td>0.417</td>\n",
       "    </tr>\n",
       "    <tr>\n",
       "      <th>2</th>\n",
       "      <td>T3</td>\n",
       "      <td>6</td>\n",
       "      <td>24</td>\n",
       "      <td>24</td>\n",
       "      <td>0.250</td>\n",
       "    </tr>\n",
       "  </tbody>\n",
       "</table>\n",
       "</div>"
      ],
      "text/plain": [
       "  Task  Execution Time (C)  Period (T)  Deadline (D) Utilization (C/T)\n",
       "0   T1                   1           8             6             0.167\n",
       "1   T2                   5          14            12             0.417\n",
       "2   T3                   6          24            24             0.250"
      ]
     },
     "metadata": {},
     "output_type": "display_data"
    },
    {
     "name": "stdout",
     "output_type": "stream",
     "text": [
      "\n",
      "Summary:\n"
     ]
    },
    {
     "data": {
      "text/html": [
       "<div>\n",
       "<style scoped>\n",
       "    .dataframe tbody tr th:only-of-type {\n",
       "        vertical-align: middle;\n",
       "    }\n",
       "\n",
       "    .dataframe tbody tr th {\n",
       "        vertical-align: top;\n",
       "    }\n",
       "\n",
       "    .dataframe thead th {\n",
       "        text-align: right;\n",
       "    }\n",
       "</style>\n",
       "<table border=\"1\" class=\"dataframe\">\n",
       "  <thead>\n",
       "    <tr style=\"text-align: right;\">\n",
       "      <th></th>\n",
       "      <th>Metric</th>\n",
       "      <th>Value</th>\n",
       "    </tr>\n",
       "  </thead>\n",
       "  <tbody>\n",
       "    <tr>\n",
       "      <th>0</th>\n",
       "      <td>Number of Tasks</td>\n",
       "      <td>3</td>\n",
       "    </tr>\n",
       "    <tr>\n",
       "      <th>1</th>\n",
       "      <td>Total Utilization</td>\n",
       "      <td>0.833</td>\n",
       "    </tr>\n",
       "    <tr>\n",
       "      <th>2</th>\n",
       "      <td>RM Bound</td>\n",
       "      <td>0.780</td>\n",
       "    </tr>\n",
       "    <tr>\n",
       "      <th>3</th>\n",
       "      <td>Schedulable</td>\n",
       "      <td>✗ No</td>\n",
       "    </tr>\n",
       "  </tbody>\n",
       "</table>\n",
       "</div>"
      ],
      "text/plain": [
       "              Metric  Value\n",
       "0    Number of Tasks      3\n",
       "1  Total Utilization  0.833\n",
       "2           RM Bound  0.780\n",
       "3        Schedulable   ✗ No"
      ]
     },
     "metadata": {},
     "output_type": "display_data"
    }
   ],
   "source": [
    "task_set = [\n",
    "        rtm.Task(period= 8,  deadline=6 ,execution_time=1),\n",
    "        rtm.Task(period=14, deadline=12,execution_time=5),\n",
    "        rtm.Task(period=24, deadline=24,execution_time=6)\n",
    "    ]\n",
    "task_matrix = [[row.period,row.deadline,row.execution_time] for row in task_set]\n",
    "display(pd.DataFrame(task_matrix, columns=['Period', 'Deadline', 'Execution Time']))\n",
    "# Check schedulability\n",
    "schedulable = rtm.rate_monotonic_check(task_set, verbose=True)\n",
    "if schedulable:\n",
    "    print(\"The task set is schedulable under Rate Monotonic scheduling.\")"
   ]
  },
  {
   "cell_type": "markdown",
   "id": "4e1b5662-95d2-4b97-93e9-856e6cc6b778",
   "metadata": {},
   "source": [
    "## Sufficient criteria for schedulability 2\n",
    "A little less pessimistic\n",
    "$$R_i\\equiv C_i + I_i = C_i + \\sum_{h=1}^{i-1}{\\lceil{\\frac{D_i}{T_h}}\\rceil C_h } <= D_i$$"
   ]
  },
  {
   "cell_type": "code",
   "execution_count": 4,
   "id": "83730511-63f4-4b5a-99b9-b854f3d44b6e",
   "metadata": {},
   "outputs": [
    {
     "name": "stdout",
     "output_type": "stream",
     "text": [
      "\n",
      "========================================================================================================================\n",
      "DEADLINE-BASED RESPONSE TIME ANALYSIS\n",
      "Formula: R_i = C_i + Σ(h=1 to i-1) ⌈D_i/T_h⌉ × C_h\n",
      "========================================================================================================================\n"
     ]
    },
    {
     "data": {
      "text/html": [
       "<div>\n",
       "<style scoped>\n",
       "    .dataframe tbody tr th:only-of-type {\n",
       "        vertical-align: middle;\n",
       "    }\n",
       "\n",
       "    .dataframe tbody tr th {\n",
       "        vertical-align: top;\n",
       "    }\n",
       "\n",
       "    .dataframe thead th {\n",
       "        text-align: right;\n",
       "    }\n",
       "</style>\n",
       "<table border=\"1\" class=\"dataframe\">\n",
       "  <thead>\n",
       "    <tr style=\"text-align: right;\">\n",
       "      <th></th>\n",
       "      <th>Task</th>\n",
       "      <th>Period (T)</th>\n",
       "      <th>Execution (C)</th>\n",
       "      <th>Deadline (D)</th>\n",
       "      <th>Utilization</th>\n",
       "      <th>Interference (I)</th>\n",
       "      <th>Response Time (R)</th>\n",
       "      <th>R ≤ D</th>\n",
       "    </tr>\n",
       "  </thead>\n",
       "  <tbody>\n",
       "    <tr>\n",
       "      <th>0</th>\n",
       "      <td>T1</td>\n",
       "      <td>8</td>\n",
       "      <td>1</td>\n",
       "      <td>6</td>\n",
       "      <td>0.125</td>\n",
       "      <td>0.0</td>\n",
       "      <td>1.0</td>\n",
       "      <td>✓</td>\n",
       "    </tr>\n",
       "    <tr>\n",
       "      <th>1</th>\n",
       "      <td>T2</td>\n",
       "      <td>14</td>\n",
       "      <td>5</td>\n",
       "      <td>12</td>\n",
       "      <td>0.357</td>\n",
       "      <td>2.0</td>\n",
       "      <td>7.0</td>\n",
       "      <td>✓</td>\n",
       "    </tr>\n",
       "    <tr>\n",
       "      <th>2</th>\n",
       "      <td>T3</td>\n",
       "      <td>24</td>\n",
       "      <td>6</td>\n",
       "      <td>24</td>\n",
       "      <td>0.250</td>\n",
       "      <td>13.0</td>\n",
       "      <td>19.0</td>\n",
       "      <td>✓</td>\n",
       "    </tr>\n",
       "  </tbody>\n",
       "</table>\n",
       "</div>"
      ],
      "text/plain": [
       "  Task  Period (T)  Execution (C)  Deadline (D) Utilization Interference (I)  \\\n",
       "0   T1           8              1             6       0.125              0.0   \n",
       "1   T2          14              5            12       0.357              2.0   \n",
       "2   T3          24              6            24       0.250             13.0   \n",
       "\n",
       "  Response Time (R) R ≤ D  \n",
       "0               1.0     ✓  \n",
       "1               7.0     ✓  \n",
       "2              19.0     ✓  "
      ]
     },
     "metadata": {},
     "output_type": "display_data"
    },
    {
     "name": "stdout",
     "output_type": "stream",
     "text": [
      "\n",
      "Interference Calculation Details:\n",
      "------------------------------------------------------------\n",
      "Task T2: I = ⌈12/8⌉×1=2.0\n",
      "Task T3: I = ⌈24/8⌉×1=3.0 + ⌈24/14⌉×5=10.0\n",
      "\n",
      "SUMMARY:\n",
      "Total Utilization: 0.732\n",
      "Schedulable Tasks: 3/3\n",
      "Overall Status: SCHEDULABLE\n",
      "========================================================================================================================\n",
      "The task set is schedulable under Rate Monotonic scheduling.\n"
     ]
    }
   ],
   "source": [
    "# Check schedulability\n",
    "schedulable = rtm.rate_monotonic_check_1(task_set, verbose=True)\n",
    "if schedulable:\n",
    "    print(\"The task set is schedulable under Rate Monotonic scheduling.\")"
   ]
  },
  {
   "cell_type": "markdown",
   "id": "a80ba45d-f022-49a9-91af-9eda65050761",
   "metadata": {},
   "source": [
    "## Necessary and sufficient: response times criteria"
   ]
  },
  {
   "cell_type": "markdown",
   "id": "7b25ec4d-db3a-4f95-ac05-79b2ebc6a064",
   "metadata": {},
   "source": [
    "$$R_i\\equiv C_i + I_i = C_i + \\sum_{h=1}^{i-1}{\\lceil{\\frac{R_i}{T_h}}\\rceil C_h } <= D_i$$"
   ]
  },
  {
   "cell_type": "code",
   "execution_count": 5,
   "id": "0a93a200-f027-48ae-ae1a-41ffa36b1fe1",
   "metadata": {},
   "outputs": [
    {
     "name": "stdout",
     "output_type": "stream",
     "text": [
      "\n",
      "================================================================================\n",
      "RESPONSE TIME ANALYSIS RESULTS\n",
      "================================================================================\n",
      "Task  Period (T)  Execution (C)  Deadline (D) Utilization Response Time (R) R ≤ D      Status\n",
      "  T1           8              1             6       0.167               1.0     ✓ Schedulable\n",
      "  T2          14              5            12       0.417               6.0     ✓ Schedulable\n",
      "  T3          24              6            24       0.250              13.0     ✓ Schedulable\n",
      "================================================================================\n",
      "\n",
      "SUMMARY:\n",
      "Total Utilization: 0.732\n",
      "Schedulable Tasks: 3/3\n",
      "Overall Status: SCHEDULABLE\n",
      "================================================================================\n"
     ]
    }
   ],
   "source": [
    "sorted_tasks = sorted(task_set, key=lambda x: x.period)\n",
    "schedulable, response_times = rtm.response_time_analysis(task_set)\n",
    "rtm.display_response_time_table(task_set,response_times,schedulable)"
   ]
  },
  {
   "cell_type": "code",
   "execution_count": null,
   "id": "b8247a70-3f5f-45be-9598-b7f7faee91a8",
   "metadata": {},
   "outputs": [],
   "source": []
  }
 ],
 "metadata": {
  "kernelspec": {
   "display_name": "Python 3 (ipykernel)",
   "language": "python",
   "name": "python3"
  },
  "language_info": {
   "codemirror_mode": {
    "name": "ipython",
    "version": 3
   },
   "file_extension": ".py",
   "mimetype": "text/x-python",
   "name": "python",
   "nbconvert_exporter": "python",
   "pygments_lexer": "ipython3",
   "version": "3.13.3"
  }
 },
 "nbformat": 4,
 "nbformat_minor": 5
}
